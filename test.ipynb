{
 "cells": [
  {
   "cell_type": "code",
   "execution_count": 2,
   "id": "564dd3b9",
   "metadata": {},
   "outputs": [],
   "source": [
    "import pandas as pd\n",
    "from itertools import cycle\n",
    "\n",
    "# Read the CSV\n",
    "data = pd.read_csv(r'C:\\Users\\Coreitez\\Codes\\adx\\CLIENT_DATA_PORTAL\\backend\\mapped_outlets.csv')\n",
    "\n",
    "# Define the repeating pattern\n",
    "status_cycle = cycle(['false', 'active', 'changed'])\n",
    "\n",
    "# Add the new column with alternating values\n",
    "data['the_status'] = [next(status_cycle) for _ in range(len(data))]\n",
    "\n",
    "# Write back to the same CSV\n",
    "data.to_csv(r'C:\\Users\\Coreitez\\Codes\\adx\\CLIENT_DATA_PORTAL\\backend\\mapped_outlets_new.csv', index=False)\n"
   ]
  }
 ],
 "metadata": {
  "kernelspec": {
   "display_name": "Python 3",
   "language": "python",
   "name": "python3"
  },
  "language_info": {
   "codemirror_mode": {
    "name": "ipython",
    "version": 3
   },
   "file_extension": ".py",
   "mimetype": "text/x-python",
   "name": "python",
   "nbconvert_exporter": "python",
   "pygments_lexer": "ipython3",
   "version": "3.12.6"
  }
 },
 "nbformat": 4,
 "nbformat_minor": 5
}
