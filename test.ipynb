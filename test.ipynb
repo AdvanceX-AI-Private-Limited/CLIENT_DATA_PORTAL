{
 "cells": [
  {
   "cell_type": "code",
   "execution_count": null,
   "id": "564dd3b9",
   "metadata": {},
   "outputs": [],
   "source": [
    "import json\n",
    "import requests\n",
    "\n",
    "cookies = {\n",
    "    'ak_bmsc': 'F2D1EE348E955D4E1357FFB857A87F5E~000000000000000000000000000000~YAAQNRzFF6OzSreWAQAAz1s+yRsd0UZSx0uQX20b3JfqbjYzmGwr43kacite3K0hTlm4tFc6XLd2sMDGQARp50UPMwJVfE1Xep3+st4/DJeTZe5rBElLNoxYvtv3Mw1ic+pxzVmjNJfWcjSQE1JhPRGqyE3sIpRtI6J0iGiBbdGiJxRUjL3R7Vg+L3ny0PUx9RYt05GL4bIe5puTZZz+3H7e2+bBSZmme+WGPZ/uE1rY804mqXr3PfaOTUR4y5XxXWKpoUPtkUd4Ek+TO0T2VLCKpvQHeK8IZyc1PXh5rJwbU4vq5NS2A3FFQoDjDDgG9p0ncBP10DSaHanaJbwkMQFZsagDJ+yBCaZgjhUPz0mUy2zrOhYBy0TrRSV8dSQ8T/DvP9hq02Oc/lQrX8xhlviDZvwd0Rp9PdG81z2rfwrH2oSE+jg=',\n",
    "    '_ga': 'GA1.1.669978735.1747133031',\n",
    "    'cid': 'bb687dd1-e9bc-413a-97c7-50ea6eea6856',\n",
    "    'zat': 'hzOeTtaPpP36-GGhqbDI3y3B3X5LM0omA079BmBJ74Q.AY6342j_tBHV6mN-k6J57PnHx1swy9_hHKSuAO0aJT0',\n",
    "    'ttaz': '1749725055',\n",
    "    '__Host-csrft': '13c6c6578750f4d44a83cedb5b5c7040dc2d9b7299bfad71161eabd60e0e9e636e89',\n",
    "    '_ga_5HBB4QH4HE': 'GS2.1.s1747133030$o1$g1$t1747133112$j0$l0$h0',\n",
    "    '_dd_s': 'rum=2&id=10197b93-b0d7-49e8-a84d-d5be12404dcc&created=1747133030251&expire=1747134013298',\n",
    "    'bm_sv': 'A0257421FF085CD1CE06A3B6F48A832C~YAAQNRzFF6wJS7eWAQAAYqQ/yRuCxWfMdSPPTSOpJPzmdHrJs4xuKe/ke0NMYej9oEMkbV3VERxYW4e4bIqRw5AX/v07Do8t6CAAOAjHp6rBm4hoCMOvmnWGj7LjpjrCuKXRlPgdaMV/j2PjWnfq4pHukUQ20ECwr+VXD7zgFSi8DrIRo7gc0Wbn/Rn4KjSkYLLwF+UlI6fqkl5fJo6r/Gk2w7KE08oWTR7x9rIMsAfxrDtBAJM7kt1gC0ESuinNpMif1SSeYw==~1',\n",
    "}\n",
    "\n",
    "headers = {\n",
    "    'accept': 'application/json, text/plain, */*',\n",
    "    'accept-language': 'en-US,en;q=0.9',\n",
    "    'priority': 'u=1, i',\n",
    "    'referer': 'https://www.weatherunion.com/',\n",
    "    'sec-ch-ua': '\"Chromium\";v=\"136\", \"Google Chrome\";v=\"136\", \"Not.A/Brand\";v=\"99\"',\n",
    "    'sec-ch-ua-mobile': '?0',\n",
    "    'sec-ch-ua-platform': '\"Windows\"',\n",
    "    'sec-fetch-dest': 'empty',\n",
    "    'sec-fetch-mode': 'cors',\n",
    "    'sec-fetch-site': 'same-origin',\n",
    "    'user-agent': 'Mozilla/5.0 (Windows NT 10.0; Win64; x64) AppleWebKit/537.36 (KHTML, like Gecko) Chrome/136.0.0.0 Safari/537.36',\n",
    "    'x-zomato-csrf-token': '13c6c6578750f4d44a83cedb5b5c7040dc2d9b7299bfad71161eabd60e0e9e636e89',\n",
    "}\n",
    "\n",
    "response = requests.get('https://www.weatherunion.com/gw/weather/service/get_weather_facts', cookies=cookies, headers=headers)\n",
    "with open(\"test.json\", 'w') as f:\n",
    "    json.dump(response.json(), f, indent=4)\n"
   ]
  }
 ],
 "metadata": {
  "kernelspec": {
   "display_name": "Python 3",
   "language": "python",
   "name": "python3"
  },
  "language_info": {
   "codemirror_mode": {
    "name": "ipython",
    "version": 3
   },
   "file_extension": ".py",
   "mimetype": "text/x-python",
   "name": "python",
   "nbconvert_exporter": "python",
   "pygments_lexer": "ipython3",
   "version": "3.12.6"
  }
 },
 "nbformat": 4,
 "nbformat_minor": 5
}
